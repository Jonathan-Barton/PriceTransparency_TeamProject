{
 "cells": [
  {
   "cell_type": "code",
   "execution_count": 1,
   "metadata": {},
   "outputs": [
    {
     "data": {
      "text/plain": [
       "     Airport_Code                Hospital_Name  \\\n",
       "0              SF              SF - Zuckerberg   \n",
       "1              SF              SF - Zuckerberg   \n",
       "2              SF              SF - Zuckerberg   \n",
       "3              SF              SF - Zuckerberg   \n",
       "4              SF              SF - Zuckerberg   \n",
       "...           ...                          ...   \n",
       "5407          SLC  University of Utah Hospital   \n",
       "5408          SLC  University of Utah Hospital   \n",
       "5409          SLC  University of Utah Hospital   \n",
       "5410          SLC  University of Utah Hospital   \n",
       "5411          SLC  University of Utah Hospital   \n",
       "\n",
       "                   Procedure_Description  Cash_Price  Gross_Price CPT_Code  \\\n",
       "0         Hc Mri Wrist Right Wo/contrast     4856.05      4856.05    73221   \n",
       "1         Hc Mri Elbow Right Wo/contrast     4856.05      4856.05    73221   \n",
       "2      Hc Mri Shoulder Right Wo/contrast     4856.05      4856.05    73221   \n",
       "3      Hc Mri Arm Rt Non Joint W&wo/cont     4856.05      4856.05    73220   \n",
       "4     Hc Mra Leg Bilateral W Wo Contrast     4856.05      4856.05    73725   \n",
       "...                                  ...         ...          ...      ...   \n",
       "5407            VENOUS DUPLEX UNILATERAL      576.50          NaN    93971   \n",
       "5408                WHOLE BODY SCAN L131     1566.70          NaN    78018   \n",
       "5409                   WRIST MIN 3 VIEWS      326.60          NaN    73110   \n",
       "5410           XRAY EYE FOR FOREIGN BODY      188.60          NaN    70030   \n",
       "5411           XRAY OF NECK, SOFT TISSUE      248.90          NaN    70360   \n",
       "\n",
       "      Number_Beds  For_Profit  Yearly_Discharges  Patient_Experience_Rating  \\\n",
       "0             397           0              15244                          3   \n",
       "1             397           0              15244                          3   \n",
       "2             397           0              15244                          3   \n",
       "3             397           0              15244                          3   \n",
       "4             397           0              15244                          3   \n",
       "...           ...         ...                ...                        ...   \n",
       "5407          585           0              32440                          4   \n",
       "5408          585           0              32440                          4   \n",
       "5409          585           0              32440                          4   \n",
       "5410          585           0              32440                          4   \n",
       "5411          585           0              32440                          4   \n",
       "\n",
       "     Radiology_Category  \n",
       "0                   MRI  \n",
       "1                   MRI  \n",
       "2                   MRI  \n",
       "3                   MRI  \n",
       "4                   MRA  \n",
       "...                 ...  \n",
       "5407         Ultrasound  \n",
       "5408   Nuclear Medicine  \n",
       "5409          Radiology  \n",
       "5410          Radiology  \n",
       "5411          Radiology  \n",
       "\n",
       "[5412 rows x 11 columns]"
      ]
     },
     "execution_count": 1,
     "metadata": {},
     "output_type": "execute_result"
    }
   ],
   "source": [
    "import csv\n",
    "import pandas as pd\n",
    "\n",
    "import numpy as np\n",
    "\n",
    "import pandas as pd\n",
    "pd.set_option('display.notebook_repr_html', False)\n",
    "\n",
    "from sklearn.datasets import load_iris, load_digits\n",
    "from sklearn.preprocessing import scale\n",
    "from sklearn.decomposition import PCA \n",
    "from sklearn.cluster import KMeans, AgglomerativeClustering\n",
    "from sklearn import metrics\n",
    "from sklearn.metrics import homogeneity_score, v_measure_score\n",
    "\n",
    "import matplotlib.pyplot as plt\n",
    "from matplotlib.colors import ListedColormap\n",
    "from mpl_toolkits.mplot3d import Axes3D\n",
    "%matplotlib inline\n",
    "plt.rcParams['figure.figsize'] = (10, 6)\n",
    "plt.style.use('ggplot')\n",
    "\n",
    "import seaborn as sns\n",
    "\n",
    "data = pd.read_csv('radiology_data_final.csv')\n",
    "data = data.drop('Unnamed: 0', 1)\n",
    "data"
   ]
  },
  {
   "cell_type": "code",
   "execution_count": 2,
   "metadata": {},
   "outputs": [
    {
     "data": {
      "text/plain": [
       "Airport_Code                   0\n",
       "Hospital_Name                  0\n",
       "Procedure_Description          0\n",
       "Cash_Price                   200\n",
       "Gross_Price                  798\n",
       "CPT_Code                       0\n",
       "Number_Beds                    0\n",
       "For_Profit                     0\n",
       "Yearly_Discharges              0\n",
       "Patient_Experience_Rating      0\n",
       "Radiology_Category             0\n",
       "dtype: int64"
      ]
     },
     "execution_count": 2,
     "metadata": {},
     "output_type": "execute_result"
    }
   ],
   "source": [
    "data.isnull().sum()"
   ]
  },
  {
   "cell_type": "code",
   "execution_count": 3,
   "metadata": {},
   "outputs": [],
   "source": [
    "### this fills null values with the average for the cpt code associated with that row\n",
    "data['Cash_Price'] = data['Cash_Price'].fillna(data.groupby('CPT_Code')['Cash_Price'].transform('mean'))\n",
    "data['Gross_Price'] = data['Gross_Price'].fillna(data.groupby('CPT_Code')['Gross_Price'].transform('mean'))\n",
    "\n",
    "#data = data.loc['Cash_Price' >= 'Gross_Price', 'Cash_Price'] = data['Gross_Price']\n",
    "\n",
    "data.to_csv('testraddata.csv')"
   ]
  },
  {
   "cell_type": "code",
   "execution_count": 4,
   "metadata": {},
   "outputs": [
    {
     "data": {
      "text/plain": [
       "Airport_Code                 0\n",
       "Hospital_Name                0\n",
       "Procedure_Description        0\n",
       "Cash_Price                   0\n",
       "Gross_Price                  3\n",
       "CPT_Code                     0\n",
       "Number_Beds                  0\n",
       "For_Profit                   0\n",
       "Yearly_Discharges            0\n",
       "Patient_Experience_Rating    0\n",
       "Radiology_Category           0\n",
       "dtype: int64"
      ]
     },
     "execution_count": 4,
     "metadata": {},
     "output_type": "execute_result"
    }
   ],
   "source": [
    "data.isnull().sum()"
   ]
  },
  {
   "cell_type": "code",
   "execution_count": 5,
   "metadata": {},
   "outputs": [],
   "source": [
    "data = data.dropna(axis=0)"
   ]
  },
  {
   "cell_type": "code",
   "execution_count": 6,
   "metadata": {},
   "outputs": [
    {
     "data": {
      "text/plain": [
       "Airport_Code                 0\n",
       "Hospital_Name                0\n",
       "Procedure_Description        0\n",
       "Cash_Price                   0\n",
       "Gross_Price                  0\n",
       "CPT_Code                     0\n",
       "Number_Beds                  0\n",
       "For_Profit                   0\n",
       "Yearly_Discharges            0\n",
       "Patient_Experience_Rating    0\n",
       "Radiology_Category           0\n",
       "dtype: int64"
      ]
     },
     "execution_count": 6,
     "metadata": {},
     "output_type": "execute_result"
    }
   ],
   "source": [
    "data.isnull().sum()"
   ]
  },
  {
   "cell_type": "code",
   "execution_count": 7,
   "metadata": {},
   "outputs": [],
   "source": [
    "X = data.drop(['Airport_Code', 'Hospital_Name', 'Procedure_Description', 'CPT_Code', 'Radiology_Category'], 1)\n",
    "y = data[['Airport_Code', 'Hospital_Name', 'Procedure_Description', 'CPT_Code', 'Radiology_Category']]"
   ]
  },
  {
   "cell_type": "code",
   "execution_count": 8,
   "metadata": {},
   "outputs": [
    {
     "data": {
      "text/plain": [
       "      Cash_Price  Gross_Price  Number_Beds  For_Profit  Yearly_Discharges  \\\n",
       "0        4856.05  4856.050000          397           0              15244   \n",
       "1        4856.05  4856.050000          397           0              15244   \n",
       "2        4856.05  4856.050000          397           0              15244   \n",
       "3        4856.05  4856.050000          397           0              15244   \n",
       "4        4856.05  4856.050000          397           0              15244   \n",
       "...          ...          ...          ...         ...                ...   \n",
       "5407      576.50  1090.514872          585           0              32440   \n",
       "5408     1566.70  3485.263333          585           0              32440   \n",
       "5409      326.60   618.153030          585           0              32440   \n",
       "5410      188.60   851.925000          585           0              32440   \n",
       "5411      248.90   847.981304          585           0              32440   \n",
       "\n",
       "      Patient_Experience_Rating  \n",
       "0                             3  \n",
       "1                             3  \n",
       "2                             3  \n",
       "3                             3  \n",
       "4                             3  \n",
       "...                         ...  \n",
       "5407                          4  \n",
       "5408                          4  \n",
       "5409                          4  \n",
       "5410                          4  \n",
       "5411                          4  \n",
       "\n",
       "[5409 rows x 6 columns]"
      ]
     },
     "execution_count": 8,
     "metadata": {},
     "output_type": "execute_result"
    }
   ],
   "source": [
    "X"
   ]
  },
  {
   "cell_type": "code",
   "execution_count": 9,
   "metadata": {},
   "outputs": [
    {
     "data": {
      "text/plain": [
       "     Airport_Code                Hospital_Name  \\\n",
       "0              SF              SF - Zuckerberg   \n",
       "1              SF              SF - Zuckerberg   \n",
       "2              SF              SF - Zuckerberg   \n",
       "3              SF              SF - Zuckerberg   \n",
       "4              SF              SF - Zuckerberg   \n",
       "...           ...                          ...   \n",
       "5407          SLC  University of Utah Hospital   \n",
       "5408          SLC  University of Utah Hospital   \n",
       "5409          SLC  University of Utah Hospital   \n",
       "5410          SLC  University of Utah Hospital   \n",
       "5411          SLC  University of Utah Hospital   \n",
       "\n",
       "                   Procedure_Description CPT_Code Radiology_Category  \n",
       "0         Hc Mri Wrist Right Wo/contrast    73221                MRI  \n",
       "1         Hc Mri Elbow Right Wo/contrast    73221                MRI  \n",
       "2      Hc Mri Shoulder Right Wo/contrast    73221                MRI  \n",
       "3      Hc Mri Arm Rt Non Joint W&wo/cont    73220                MRI  \n",
       "4     Hc Mra Leg Bilateral W Wo Contrast    73725                MRA  \n",
       "...                                  ...      ...                ...  \n",
       "5407            VENOUS DUPLEX UNILATERAL    93971         Ultrasound  \n",
       "5408                WHOLE BODY SCAN L131    78018   Nuclear Medicine  \n",
       "5409                   WRIST MIN 3 VIEWS    73110          Radiology  \n",
       "5410           XRAY EYE FOR FOREIGN BODY    70030          Radiology  \n",
       "5411           XRAY OF NECK, SOFT TISSUE    70360          Radiology  \n",
       "\n",
       "[5409 rows x 5 columns]"
      ]
     },
     "execution_count": 9,
     "metadata": {},
     "output_type": "execute_result"
    }
   ],
   "source": [
    "y"
   ]
  },
  {
   "cell_type": "code",
   "execution_count": 10,
   "metadata": {
    "scrolled": true
   },
   "outputs": [
    {
     "name": "stdout",
     "output_type": "stream",
     "text": [
      "[8.11366243e-01 1.78356569e-01 1.01551796e-02 1.22001487e-04\n",
      " 5.64677183e-09 7.97527009e-10]\n"
     ]
    },
    {
     "data": {
      "image/png": "[encoded data removed]",
      "text/plain": [
       "<Figure size 720x432 with 1 Axes>"
      ]
     },
     "metadata": {},
     "output_type": "display_data"
    }
   ],
   "source": [
    "pca_model = PCA()\n",
    "X_PCA = pca_model.fit_transform(X)\n",
    "\n",
    "# Variance ratio of the four principal components\n",
    "var_ratio = pca_model.explained_variance_ratio_\n",
    "print(var_ratio)\n",
    "\n",
    "plt.plot([1,2,3,4,5,6], var_ratio, '-o')\n",
    "\n",
    "plt.ylabel('Proportion of Variance Explained')\n",
    "plt.xlabel('Principal Component')\n",
    "plt.xlim(0.75,4.25)\n",
    "plt.ylim(0,1.05)\n",
    "plt.xticks([1,2,3,4])\n",
    "plt.show()"
   ]
  },
  {
   "cell_type": "code",
   "execution_count": 11,
   "metadata": {},
   "outputs": [],
   "source": [
    "### interesting, there is way more variance in the cash price for hospitals"
   ]
  },
  {
   "cell_type": "markdown",
   "metadata": {},
   "source": [
    "# Regression"
   ]
  },
  {
   "cell_type": "code",
   "execution_count": 12,
   "metadata": {},
   "outputs": [],
   "source": [
    "# imports and setup\n",
    "\n",
    "import scipy as sc\n",
    "from scipy.stats import norm\n",
    "\n",
    "import pandas as pd\n",
    "import numpy as np\n",
    "import statsmodels.formula.api as sm\n",
    "from sklearn import linear_model\n",
    "\n",
    "import matplotlib.pyplot as plt\n",
    "%matplotlib inline  \n",
    "plt.rcParams['figure.figsize'] = (10, 6)\n",
    "\n",
    "from mpl_toolkits.mplot3d import Axes3D\n",
    "from matplotlib import cm"
   ]
  },
  {
   "cell_type": "code",
   "execution_count": 13,
   "metadata": {},
   "outputs": [
    {
     "data": {
      "text/plain": [
       "     Airport_Code                Hospital_Name  \\\n",
       "0              SF              SF - Zuckerberg   \n",
       "1              SF              SF - Zuckerberg   \n",
       "2              SF              SF - Zuckerberg   \n",
       "3              SF              SF - Zuckerberg   \n",
       "4              SF              SF - Zuckerberg   \n",
       "...           ...                          ...   \n",
       "5407          SLC  University of Utah Hospital   \n",
       "5408          SLC  University of Utah Hospital   \n",
       "5409          SLC  University of Utah Hospital   \n",
       "5410          SLC  University of Utah Hospital   \n",
       "5411          SLC  University of Utah Hospital   \n",
       "\n",
       "                   Procedure_Description  Cash_Price  Gross_Price CPT_Code  \\\n",
       "0         Hc Mri Wrist Right Wo/contrast     4856.05  4856.050000    73221   \n",
       "1         Hc Mri Elbow Right Wo/contrast     4856.05  4856.050000    73221   \n",
       "2      Hc Mri Shoulder Right Wo/contrast     4856.05  4856.050000    73221   \n",
       "3      Hc Mri Arm Rt Non Joint W&wo/cont     4856.05  4856.050000    73220   \n",
       "4     Hc Mra Leg Bilateral W Wo Contrast     4856.05  4856.050000    73725   \n",
       "...                                  ...         ...          ...      ...   \n",
       "5407            VENOUS DUPLEX UNILATERAL      576.50  1090.514872    93971   \n",
       "5408                WHOLE BODY SCAN L131     1566.70  3485.263333    78018   \n",
       "5409                   WRIST MIN 3 VIEWS      326.60   618.153030    73110   \n",
       "5410           XRAY EYE FOR FOREIGN BODY      188.60   851.925000    70030   \n",
       "5411           XRAY OF NECK, SOFT TISSUE      248.90   847.981304    70360   \n",
       "\n",
       "      Number_Beds  For_Profit  Yearly_Discharges  Patient_Experience_Rating  \\\n",
       "0             397           0              15244                          3   \n",
       "1             397           0              15244                          3   \n",
       "2             397           0              15244                          3   \n",
       "3             397           0              15244                          3   \n",
       "4             397           0              15244                          3   \n",
       "...           ...         ...                ...                        ...   \n",
       "5407          585           0              32440                          4   \n",
       "5408          585           0              32440                          4   \n",
       "5409          585           0              32440                          4   \n",
       "5410          585           0              32440                          4   \n",
       "5411          585           0              32440                          4   \n",
       "\n",
       "     Radiology_Category  \n",
       "0                   MRI  \n",
       "1                   MRI  \n",
       "2                   MRI  \n",
       "3                   MRI  \n",
       "4                   MRA  \n",
       "...                 ...  \n",
       "5407         Ultrasound  \n",
       "5408   Nuclear Medicine  \n",
       "5409          Radiology  \n",
       "5410          Radiology  \n",
       "5411          Radiology  \n",
       "\n",
       "[5409 rows x 11 columns]"
      ]
     },
     "execution_count": 13,
     "metadata": {},
     "output_type": "execute_result"
    }
   ],
   "source": [
    "data"
   ]
  },
  {
   "cell_type": "code",
   "execution_count": 14,
   "metadata": {},
   "outputs": [],
   "source": [
    "LRData = data"
   ]
  },
  {
   "cell_type": "code",
   "execution_count": 15,
   "metadata": {},
   "outputs": [
    {
     "name": "stderr",
     "output_type": "stream",
     "text": [
      "<ipython-input-15-365669cf4136>:1: SettingWithCopyWarning: \n",
      "A value is trying to be set on a copy of a slice from a DataFrame.\n",
      "Try using .loc[row_indexer,col_indexer] = value instead\n",
      "\n",
      "See the caveats in the documentation: https://pandas.pydata.org/pandas-docs/stable/user_guide/indexing.html#returning-a-view-versus-a-copy\n",
      "  LRData[\"Airport_Code\"] = LRData[\"Airport_Code\"].astype('category')\n",
      "<ipython-input-15-365669cf4136>:2: SettingWithCopyWarning: \n",
      "A value is trying to be set on a copy of a slice from a DataFrame.\n",
      "Try using .loc[row_indexer,col_indexer] = value instead\n",
      "\n",
      "See the caveats in the documentation: https://pandas.pydata.org/pandas-docs/stable/user_guide/indexing.html#returning-a-view-versus-a-copy\n",
      "  LRData[\"Airport_Code_Num\"] = LRData[\"Airport_Code\"].cat.codes\n",
      "<ipython-input-15-365669cf4136>:4: SettingWithCopyWarning: \n",
      "A value is trying to be set on a copy of a slice from a DataFrame.\n",
      "Try using .loc[row_indexer,col_indexer] = value instead\n",
      "\n",
      "See the caveats in the documentation: https://pandas.pydata.org/pandas-docs/stable/user_guide/indexing.html#returning-a-view-versus-a-copy\n",
      "  LRData[\"Hospital_Name\"] = LRData[\"Hospital_Name\"].astype('category')\n",
      "<ipython-input-15-365669cf4136>:5: SettingWithCopyWarning: \n",
      "A value is trying to be set on a copy of a slice from a DataFrame.\n",
      "Try using .loc[row_indexer,col_indexer] = value instead\n",
      "\n",
      "See the caveats in the documentation: https://pandas.pydata.org/pandas-docs/stable/user_guide/indexing.html#returning-a-view-versus-a-copy\n",
      "  LRData[\"Hospital_Name_Num\"] = LRData[\"Hospital_Name\"].cat.codes\n",
      "<ipython-input-15-365669cf4136>:7: SettingWithCopyWarning: \n",
      "A value is trying to be set on a copy of a slice from a DataFrame.\n",
      "Try using .loc[row_indexer,col_indexer] = value instead\n",
      "\n",
      "See the caveats in the documentation: https://pandas.pydata.org/pandas-docs/stable/user_guide/indexing.html#returning-a-view-versus-a-copy\n",
      "  LRData[\"Radiology_Category\"] = LRData[\"Radiology_Category\"].astype('category')\n",
      "<ipython-input-15-365669cf4136>:8: SettingWithCopyWarning: \n",
      "A value is trying to be set on a copy of a slice from a DataFrame.\n",
      "Try using .loc[row_indexer,col_indexer] = value instead\n",
      "\n",
      "See the caveats in the documentation: https://pandas.pydata.org/pandas-docs/stable/user_guide/indexing.html#returning-a-view-versus-a-copy\n",
      "  LRData[\"Radiology_Category_Num\"] = LRData[\"Radiology_Category\"].cat.codes\n"
     ]
    },
    {
     "data": {
      "text/plain": [
       "     Airport_Code                Hospital_Name  \\\n",
       "0              SF              SF - Zuckerberg   \n",
       "1              SF              SF - Zuckerberg   \n",
       "2              SF              SF - Zuckerberg   \n",
       "3              SF              SF - Zuckerberg   \n",
       "4              SF              SF - Zuckerberg   \n",
       "...           ...                          ...   \n",
       "5407          SLC  University of Utah Hospital   \n",
       "5408          SLC  University of Utah Hospital   \n",
       "5409          SLC  University of Utah Hospital   \n",
       "5410          SLC  University of Utah Hospital   \n",
       "5411          SLC  University of Utah Hospital   \n",
       "\n",
       "                   Procedure_Description  Cash_Price  Gross_Price CPT_Code  \\\n",
       "0         Hc Mri Wrist Right Wo/contrast     4856.05  4856.050000    73221   \n",
       "1         Hc Mri Elbow Right Wo/contrast     4856.05  4856.050000    73221   \n",
       "2      Hc Mri Shoulder Right Wo/contrast     4856.05  4856.050000    73221   \n",
       "3      Hc Mri Arm Rt Non Joint W&wo/cont     4856.05  4856.050000    73220   \n",
       "4     Hc Mra Leg Bilateral W Wo Contrast     4856.05  4856.050000    73725   \n",
       "...                                  ...         ...          ...      ...   \n",
       "5407            VENOUS DUPLEX UNILATERAL      576.50  1090.514872    93971   \n",
       "5408                WHOLE BODY SCAN L131     1566.70  3485.263333    78018   \n",
       "5409                   WRIST MIN 3 VIEWS      326.60   618.153030    73110   \n",
       "5410           XRAY EYE FOR FOREIGN BODY      188.60   851.925000    70030   \n",
       "5411           XRAY OF NECK, SOFT TISSUE      248.90   847.981304    70360   \n",
       "\n",
       "      Number_Beds  For_Profit  Yearly_Discharges  Patient_Experience_Rating  \\\n",
       "0             397           0              15244                          3   \n",
       "1             397           0              15244                          3   \n",
       "2             397           0              15244                          3   \n",
       "3             397           0              15244                          3   \n",
       "4             397           0              15244                          3   \n",
       "...           ...         ...                ...                        ...   \n",
       "5407          585           0              32440                          4   \n",
       "5408          585           0              32440                          4   \n",
       "5409          585           0              32440                          4   \n",
       "5410          585           0              32440                          4   \n",
       "5411          585           0              32440                          4   \n",
       "\n",
       "     Radiology_Category  Airport_Code_Num  Hospital_Name_Num  \\\n",
       "0                   MRI                 3                 10   \n",
       "1                   MRI                 3                 10   \n",
       "2                   MRI                 3                 10   \n",
       "3                   MRI                 3                 10   \n",
       "4                   MRA                 3                 10   \n",
       "...                 ...               ...                ...   \n",
       "5407         Ultrasound                 4                 16   \n",
       "5408   Nuclear Medicine                 4                 16   \n",
       "5409          Radiology                 4                 16   \n",
       "5410          Radiology                 4                 16   \n",
       "5411          Radiology                 4                 16   \n",
       "\n",
       "      Radiology_Category_Num  \n",
       "0                          4  \n",
       "1                          4  \n",
       "2                          4  \n",
       "3                          4  \n",
       "4                          3  \n",
       "...                      ...  \n",
       "5407                       8  \n",
       "5408                       5  \n",
       "5409                       7  \n",
       "5410                       7  \n",
       "5411                       7  \n",
       "\n",
       "[5409 rows x 14 columns]"
      ]
     },
     "execution_count": 15,
     "metadata": {},
     "output_type": "execute_result"
    }
   ],
   "source": [
    "LRData[\"Airport_Code\"] = LRData[\"Airport_Code\"].astype('category')\n",
    "LRData[\"Airport_Code_Num\"] = LRData[\"Airport_Code\"].cat.codes\n",
    "\n",
    "LRData[\"Hospital_Name\"] = LRData[\"Hospital_Name\"].astype('category')\n",
    "LRData[\"Hospital_Name_Num\"] = LRData[\"Hospital_Name\"].cat.codes\n",
    "\n",
    "LRData[\"Radiology_Category\"] = LRData[\"Radiology_Category\"].astype('category')\n",
    "LRData[\"Radiology_Category_Num\"] = LRData[\"Radiology_Category\"].cat.codes\n",
    "\n",
    "LRData"
   ]
  },
  {
   "cell_type": "code",
   "execution_count": 16,
   "metadata": {},
   "outputs": [
    {
     "data": {
      "text/html": [
       "<table class=\"simpletable\">\n",
       "<caption>OLS Regression Results</caption>\n",
       "<tr>\n",
       "  <th>Dep. Variable:</th>    <td>Patient_Experience_Rating</td> <th>  R-squared:         </th> <td>   0.431</td>\n",
       "</tr>\n",
       "<tr>\n",
       "  <th>Model:</th>                       <td>OLS</td>            <th>  Adj. R-squared:    </th> <td>   0.430</td>\n",
       "</tr>\n",
       "<tr>\n",
       "  <th>Method:</th>                 <td>Least Squares</td>       <th>  F-statistic:       </th> <td>   817.5</td>\n",
       "</tr>\n",
       "<tr>\n",
       "  <th>Date:</th>                 <td>Tue, 20 Apr 2021</td>      <th>  Prob (F-statistic):</th>  <td>  0.00</td> \n",
       "</tr>\n",
       "<tr>\n",
       "  <th>Time:</th>                     <td>16:05:25</td>          <th>  Log-Likelihood:    </th> <td> -4512.5</td>\n",
       "</tr>\n",
       "<tr>\n",
       "  <th>No. Observations:</th>          <td>  5409</td>           <th>  AIC:               </th> <td>   9037.</td>\n",
       "</tr>\n",
       "<tr>\n",
       "  <th>Df Residuals:</th>              <td>  5403</td>           <th>  BIC:               </th> <td>   9077.</td>\n",
       "</tr>\n",
       "<tr>\n",
       "  <th>Df Model:</th>                  <td>     5</td>           <th>                     </th>     <td> </td>   \n",
       "</tr>\n",
       "<tr>\n",
       "  <th>Covariance Type:</th>          <td>nonrobust</td>         <th>                     </th>     <td> </td>   \n",
       "</tr>\n",
       "</table>\n",
       "<table class=\"simpletable\">\n",
       "<tr>\n",
       "          <td></td>             <th>coef</th>     <th>std err</th>      <th>t</th>      <th>P>|t|</th>  <th>[0.025</th>    <th>0.975]</th>  \n",
       "</tr>\n",
       "<tr>\n",
       "  <th>Intercept</th>         <td>    4.2240</td> <td>    0.032</td> <td>  132.062</td> <td> 0.000</td> <td>    4.161</td> <td>    4.287</td>\n",
       "</tr>\n",
       "<tr>\n",
       "  <th>Number_Beds</th>       <td>   -0.0032</td> <td> 9.62e-05</td> <td>  -33.493</td> <td> 0.000</td> <td>   -0.003</td> <td>   -0.003</td>\n",
       "</tr>\n",
       "<tr>\n",
       "  <th>For_Profit</th>        <td>   -1.1388</td> <td>    0.022</td> <td>  -51.951</td> <td> 0.000</td> <td>   -1.182</td> <td>   -1.096</td>\n",
       "</tr>\n",
       "<tr>\n",
       "  <th>Cash_Price</th>        <td>    0.0001</td> <td> 6.71e-06</td> <td>   16.669</td> <td> 0.000</td> <td> 9.87e-05</td> <td>    0.000</td>\n",
       "</tr>\n",
       "<tr>\n",
       "  <th>Gross_Price</th>       <td> -8.56e-05</td> <td> 5.26e-06</td> <td>  -16.261</td> <td> 0.000</td> <td>-9.59e-05</td> <td>-7.53e-05</td>\n",
       "</tr>\n",
       "<tr>\n",
       "  <th>Yearly_Discharges</th> <td> 1.942e-05</td> <td> 1.33e-06</td> <td>   14.567</td> <td> 0.000</td> <td> 1.68e-05</td> <td>  2.2e-05</td>\n",
       "</tr>\n",
       "</table>\n",
       "<table class=\"simpletable\">\n",
       "<tr>\n",
       "  <th>Omnibus:</th>       <td>95.337</td> <th>  Durbin-Watson:     </th> <td>   0.035</td>\n",
       "</tr>\n",
       "<tr>\n",
       "  <th>Prob(Omnibus):</th> <td> 0.000</td> <th>  Jarque-Bera (JB):  </th> <td>  93.922</td>\n",
       "</tr>\n",
       "<tr>\n",
       "  <th>Skew:</th>          <td> 0.296</td> <th>  Prob(JB):          </th> <td>4.03e-21</td>\n",
       "</tr>\n",
       "<tr>\n",
       "  <th>Kurtosis:</th>      <td> 2.743</td> <th>  Cond. No.          </th> <td>7.93e+04</td>\n",
       "</tr>\n",
       "</table><br/><br/>Notes:<br/>[1] Standard Errors assume that the covariance matrix of the errors is correctly specified.<br/>[2] The condition number is large, 7.93e+04. This might indicate that there are<br/>strong multicollinearity or other numerical problems."
      ],
      "text/plain": [
       "<class 'statsmodels.iolib.summary.Summary'>\n",
       "\"\"\"\n",
       "                                OLS Regression Results                               \n",
       "=====================================================================================\n",
       "Dep. Variable:     Patient_Experience_Rating   R-squared:                       0.431\n",
       "Model:                                   OLS   Adj. R-squared:                  0.430\n",
       "Method:                        Least Squares   F-statistic:                     817.5\n",
       "Date:                       Tue, 20 Apr 2021   Prob (F-statistic):               0.00\n",
       "Time:                               16:05:25   Log-Likelihood:                -4512.5\n",
       "No. Observations:                       5409   AIC:                             9037.\n",
       "Df Residuals:                           5403   BIC:                             9077.\n",
       "Df Model:                                  5                                         \n",
       "Covariance Type:                   nonrobust                                         \n",
       "=====================================================================================\n",
       "                        coef    std err          t      P>|t|      [0.025      0.975]\n",
       "-------------------------------------------------------------------------------------\n",
       "Intercept             4.2240      0.032    132.062      0.000       4.161       4.287\n",
       "Number_Beds          -0.0032   9.62e-05    -33.493      0.000      -0.003      -0.003\n",
       "For_Profit           -1.1388      0.022    -51.951      0.000      -1.182      -1.096\n",
       "Cash_Price            0.0001   6.71e-06     16.669      0.000    9.87e-05       0.000\n",
       "Gross_Price        -8.56e-05   5.26e-06    -16.261      0.000   -9.59e-05   -7.53e-05\n",
       "Yearly_Discharges  1.942e-05   1.33e-06     14.567      0.000    1.68e-05     2.2e-05\n",
       "==============================================================================\n",
       "Omnibus:                       95.337   Durbin-Watson:                   0.035\n",
       "Prob(Omnibus):                  0.000   Jarque-Bera (JB):               93.922\n",
       "Skew:                           0.296   Prob(JB):                     4.03e-21\n",
       "Kurtosis:                       2.743   Cond. No.                     7.93e+04\n",
       "==============================================================================\n",
       "\n",
       "Notes:\n",
       "[1] Standard Errors assume that the covariance matrix of the errors is correctly specified.\n",
       "[2] The condition number is large, 7.93e+04. This might indicate that there are\n",
       "strong multicollinearity or other numerical problems.\n",
       "\"\"\""
      ]
     },
     "execution_count": 16,
     "metadata": {},
     "output_type": "execute_result"
    }
   ],
   "source": [
    "priceLR = sm.ols(formula=\"Patient_Experience_Rating ~ Number_Beds + For_Profit + Cash_Price + Gross_Price + Yearly_Discharges\", data=LRData).fit()\n",
    "priceLR.summary()"
   ]
  },
  {
   "cell_type": "code",
   "execution_count": null,
   "metadata": {},
   "outputs": [],
   "source": []
  },
  {
   "cell_type": "code",
   "execution_count": null,
   "metadata": {},
   "outputs": [],
   "source": []
  }
 ],
 "metadata": {
  "kernelspec": {
   "display_name": "Python 3",
   "language": "python",
   "name": "python3"
  },
  "language_info": {
   "codemirror_mode": {
    "name": "ipython",
    "version": 3
   },
   "file_extension": ".py",
   "mimetype": "text/x-python",
   "name": "python",
   "nbconvert_exporter": "python",
   "pygments_lexer": "ipython3",
   "version": "3.8.5"
  }
 },
 "nbformat": 4,
 "nbformat_minor": 4
}
