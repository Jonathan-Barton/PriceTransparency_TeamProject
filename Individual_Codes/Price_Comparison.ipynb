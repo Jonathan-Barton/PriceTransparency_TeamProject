{
 "cells": [
  {
   "cell_type": "markdown",
   "metadata": {
    "colab_type": "text",
    "id": "view-in-github"
   },
   "source": [
    "<a href=\"https://colab.research.google.com/github/Jonathan-Barton/PriceTransparency_TeamProject/blob/main/Price_Comparison.ipynb\" target=\"_parent\"><img src=\"https://colab.research.google.com/assets/colab-badge.svg\" alt=\"Open In Colab\"/></a>"
   ]
  },
  {
   "cell_type": "markdown",
   "metadata": {
    "id": "uSuWrXMN4QJ3"
   },
   "source": [
    "# Medical Tourism (freemarketization)\n",
    "#### “There are no limits to what free men, free women, and free markets can accomplish.” –Jack Kemp\n",
    "#### \"The uneven distribution of wealth in the world is due to the uneven distribution of capitalism.\" –Johan Norberg"
   ]
  },
  {
   "cell_type": "code",
   "execution_count": null,
   "metadata": {
    "id": "Ie_zZI0uynNP"
   },
   "outputs": [],
   "source": [
    "import pandas as pd\n",
    "import scipy as sc\n",
    "import numpy as np\n",
    "\n",
    "from scipy import stats\n",
    "from google.colab import drive\n",
    "import seaborn as sns\n",
    "import altair as alt"
   ]
  },
  {
   "cell_type": "code",
   "execution_count": null,
   "metadata": {
    "colab": {
     "base_uri": "https://localhost:8080/",
     "height": 73,
     "resources": {
      "http://localhost:8080/nbextensions/google.colab/files.js": {
       "data": "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",
       "headers": [
        [
         "content-type",
         "application/javascript"
        ]
       ],
       "ok": true,
       "status": 200,
       "status_text": ""
      }
     }
    },
    "id": "AywENxaqsjVz",
    "outputId": "f05824fe-97da-4b19-e72e-f3efcaeacaa5"
   },
   "outputs": [
    {
     "data": {
      "text/html": [
       "\n",
       "     <input type=\"file\" id=\"files-7ff49edd-3367-4fa0-8a0e-3ce4eb40237c\" name=\"files[]\" multiple disabled\n",
       "        style=\"border:none\" />\n",
       "     <output id=\"result-7ff49edd-3367-4fa0-8a0e-3ce4eb40237c\">\n",
       "      Upload widget is only available when the cell has been executed in the\n",
       "      current browser session. Please rerun this cell to enable.\n",
       "      </output>\n",
       "      <script src=\"/nbextensions/google.colab/files.js\"></script> "
      ],
      "text/plain": [
       "<IPython.core.display.HTML object>"
      ]
     },
     "metadata": {
      "tags": []
     },
     "output_type": "display_data"
    },
    {
     "name": "stdout",
     "output_type": "stream",
     "text": [
      "Saving Virginia_mason_Seattle.csv to Virginia_mason_Seattle.csv\n"
     ]
    }
   ],
   "source": [
    "from google.colab import files\n",
    "uploaded = files.upload()"
   ]
  },
  {
   "cell_type": "code",
   "execution_count": null,
   "metadata": {
    "colab": {
     "base_uri": "https://localhost:8080/"
    },
    "id": "yjkJAMihv1ra",
    "outputId": "373156ef-8efa-45c7-c091-2bc62458ecd6"
   },
   "outputs": [
    {
     "name": "stdout",
     "output_type": "stream",
     "text": [
      "Mounted at /content/drive\n"
     ]
    }
   ],
   "source": [
    "## this will prompt an authorization code. Click allow and then paste it into the bar below and press enter. this mounts your google drive\n",
    "# so that you can access files in it as a directory\n",
    "drive.mount('/content/drive', force_remount=True)"
   ]
  },
  {
   "cell_type": "code",
   "execution_count": null,
   "metadata": {
    "colab": {
     "base_uri": "https://localhost:8080/",
     "height": 202
    },
    "id": "i6UA6dIyylpf",
    "outputId": "9a8ab498-9a73-4f69-ce3d-fefcac06fc4b"
   },
   "outputs": [
    {
     "data": {
      "text/html": [
       "<div>\n",
       "<style scoped>\n",
       "    .dataframe tbody tr th:only-of-type {\n",
       "        vertical-align: middle;\n",
       "    }\n",
       "\n",
       "    .dataframe tbody tr th {\n",
       "        vertical-align: top;\n",
       "    }\n",
       "\n",
       "    .dataframe thead th {\n",
       "        text-align: right;\n",
       "    }\n",
       "</style>\n",
       "<table border=\"1\" class=\"dataframe\">\n",
       "  <thead>\n",
       "    <tr style=\"text-align: right;\">\n",
       "      <th></th>\n",
       "      <th>PROC NAME</th>\n",
       "      <th>CPT CODE</th>\n",
       "      <th>MAIN\\r\\nPRICE</th>\n",
       "      <th>Airport_Code</th>\n",
       "      <th>Hospital_Name</th>\n",
       "    </tr>\n",
       "  </thead>\n",
       "  <tbody>\n",
       "    <tr>\n",
       "      <th>0</th>\n",
       "      <td>ANCHOR CPS SHORT 14MM</td>\n",
       "      <td>NaN</td>\n",
       "      <td>$2,926.10</td>\n",
       "      <td>SLC</td>\n",
       "      <td>University of Utah</td>\n",
       "    </tr>\n",
       "    <tr>\n",
       "      <th>1</th>\n",
       "      <td>ANCHOR TENDON (8)</td>\n",
       "      <td>NaN</td>\n",
       "      <td>$832.50</td>\n",
       "      <td>SLC</td>\n",
       "      <td>University of Utah</td>\n",
       "    </tr>\n",
       "    <tr>\n",
       "      <th>2</th>\n",
       "      <td>AUG FEM CONE TRIATH TRI 1\\T\u0002 R</td>\n",
       "      <td>NaN</td>\n",
       "      <td>$12,916.00</td>\n",
       "      <td>SLC</td>\n",
       "      <td>University of Utah</td>\n",
       "    </tr>\n",
       "    <tr>\n",
       "      <th>3</th>\n",
       "      <td>AUG FEM VG 360 UNV PST 80X10</td>\n",
       "      <td>NaN</td>\n",
       "      <td>$2,600.70</td>\n",
       "      <td>SLC</td>\n",
       "      <td>University of Utah</td>\n",
       "    </tr>\n",
       "    <tr>\n",
       "      <th>4</th>\n",
       "      <td>AUGMENT TIBIAL BMT 360 71X10</td>\n",
       "      <td>NaN</td>\n",
       "      <td>$2,418.10</td>\n",
       "      <td>SLC</td>\n",
       "      <td>University of Utah</td>\n",
       "    </tr>\n",
       "  </tbody>\n",
       "</table>\n",
       "</div>"
      ],
      "text/plain": [
       "                         PROC NAME CPT CODE  ... Airport_Code       Hospital_Name\n",
       "0            ANCHOR CPS SHORT 14MM      NaN  ...          SLC  University of Utah\n",
       "1                ANCHOR TENDON (8)      NaN  ...          SLC  University of Utah\n",
       "2   AUG FEM CONE TRIATH TRI 1\\T\u0002 R      NaN  ...          SLC  University of Utah\n",
       "3     AUG FEM VG 360 UNV PST 80X10      NaN  ...          SLC  University of Utah\n",
       "4     AUGMENT TIBIAL BMT 360 71X10      NaN  ...          SLC  University of Utah\n",
       "\n",
       "[5 rows x 5 columns]"
      ]
     },
     "execution_count": 11,
     "metadata": {
      "tags": []
     },
     "output_type": "execute_result"
    }
   ],
   "source": [
    "# Create DF for University of Utah Health in SLC\n",
    "UofU_health = pd.read_csv(\"UofU_Health.csv\", encoding= 'unicode_escape')\n",
    "\n",
    "UofU_health['Airport_Code'] = 'SLC'\n",
    "UofU_health['Hospital_Name'] = 'University of Utah'\n",
    "# make MAIN\\nPRICE cash price, make another column gross_price with NULL values.\n",
    "\n",
    "UofU_health.head()"
   ]
  },
  {
   "cell_type": "code",
   "execution_count": null,
   "metadata": {
    "id": "7Bw3cg0c61TA"
   },
   "outputs": [],
   "source": [
    "cpt = []\n",
    "for val in df['col_count']: #Swap col_count with the CPT/HCPCS column.\n",
    "    try:\n",
    "        if int(val):\n",
    "            cpt.append(1)\n",
    "        else:\n",
    "            cpt.append(0)\n",
    "    except ValueError:\n",
    "        cpt.append(0)\n",
    "df[\"cptFLG\"] = cpt        # Swap df with the data frame name.\n",
    "# We can then filter on the cptFLG column to roughly eliminate the HCPCS"
   ]
  },
  {
   "cell_type": "code",
   "execution_count": null,
   "metadata": {
    "colab": {
     "base_uri": "https://localhost:8080/",
     "height": 203
    },
    "id": "EL2ASpzC5glP",
    "outputId": "edecfe5d-0649-4fb0-e42c-9b4af4113be5"
   },
   "outputs": [
    {
     "data": {
      "text/html": [
       "<div>\n",
       "<style scoped>\n",
       "    .dataframe tbody tr th:only-of-type {\n",
       "        vertical-align: middle;\n",
       "    }\n",
       "\n",
       "    .dataframe tbody tr th {\n",
       "        vertical-align: top;\n",
       "    }\n",
       "\n",
       "    .dataframe thead th {\n",
       "        text-align: right;\n",
       "    }\n",
       "</style>\n",
       "<table border=\"1\" class=\"dataframe\">\n",
       "  <thead>\n",
       "    <tr style=\"text-align: right;\">\n",
       "      <th></th>\n",
       "      <th>Procedure ID</th>\n",
       "      <th>HCPCS/CPT Code</th>\n",
       "      <th>Description</th>\n",
       "      <th>Gross Charge</th>\n",
       "      <th>Undiscounted Cash Price</th>\n",
       "    </tr>\n",
       "  </thead>\n",
       "  <tbody>\n",
       "    <tr>\n",
       "      <th>0</th>\n",
       "      <td>708</td>\n",
       "      <td></td>\n",
       "      <td>SUT NURLN C4-0 RB1 C584D</td>\n",
       "      <td>142</td>\n",
       "      <td>142.0</td>\n",
       "    </tr>\n",
       "    <tr>\n",
       "      <th>1</th>\n",
       "      <td>8000</td>\n",
       "      <td></td>\n",
       "      <td>REHAB ROOM</td>\n",
       "      <td>2535</td>\n",
       "      <td>2535.0</td>\n",
       "    </tr>\n",
       "    <tr>\n",
       "      <th>2</th>\n",
       "      <td>8001</td>\n",
       "      <td></td>\n",
       "      <td>ROOM CHARGE ICU HOLD</td>\n",
       "      <td>5399</td>\n",
       "      <td>5399.0</td>\n",
       "    </tr>\n",
       "    <tr>\n",
       "      <th>3</th>\n",
       "      <td>8002</td>\n",
       "      <td></td>\n",
       "      <td>ROOM CHARGE WP HOLD</td>\n",
       "      <td>2021</td>\n",
       "      <td>2021.0</td>\n",
       "    </tr>\n",
       "    <tr>\n",
       "      <th>4</th>\n",
       "      <td>8003</td>\n",
       "      <td></td>\n",
       "      <td>ROOM CHARGE PCU HOLD</td>\n",
       "      <td>3435</td>\n",
       "      <td>3435.0</td>\n",
       "    </tr>\n",
       "  </tbody>\n",
       "</table>\n",
       "</div>"
      ],
      "text/plain": [
       "  Procedure ID HCPCS/CPT Code  ... Gross Charge Undiscounted Cash Price\n",
       "0          708                 ...          142                   142.0\n",
       "1         8000                 ...         2535                  2535.0\n",
       "2         8001                 ...         5399                  5399.0\n",
       "3         8002                 ...         2021                  2021.0\n",
       "4         8003                 ...         3435                  3435.0\n",
       "\n",
       "[5 rows x 5 columns]"
      ]
     },
     "execution_count": 10,
     "metadata": {
      "tags": []
     },
     "output_type": "execute_result"
    }
   ],
   "source": [
    "# Create DF for St. Marrks hospital in SLC\n",
    "st_marks = pd.read_csv(\"MountainStar_st-marks-hospital_standardcharges.csv\")\n",
    "st_marks.head()\n",
    "\n",
    "st_marks['Airport_Code'] = 'SLC'\n",
    "st_marks['Hospital_Name'] = 'St Marks'"
   ]
  },
  {
   "cell_type": "code",
   "execution_count": null,
   "metadata": {
    "colab": {
     "base_uri": "https://localhost:8080/",
     "height": 204
    },
    "id": "2OXi8lCQ5gzk",
    "outputId": "843fc17a-1b84-4de2-8ca1-8221ab6558b0"
   },
   "outputs": [
    {
     "data": {
      "text/html": [
       "<div>\n",
       "<style scoped>\n",
       "    .dataframe tbody tr th:only-of-type {\n",
       "        vertical-align: middle;\n",
       "    }\n",
       "\n",
       "    .dataframe tbody tr th {\n",
       "        vertical-align: top;\n",
       "    }\n",
       "\n",
       "    .dataframe thead th {\n",
       "        text-align: right;\n",
       "    }\n",
       "</style>\n",
       "<table border=\"1\" class=\"dataframe\">\n",
       "  <thead>\n",
       "    <tr style=\"text-align: right;\">\n",
       "      <th></th>\n",
       "      <th>Procedure ID</th>\n",
       "      <th>HCPCS/CPT Code</th>\n",
       "      <th>Description</th>\n",
       "      <th>Gross Charge</th>\n",
       "      <th>Undiscounted Cash Price</th>\n",
       "    </tr>\n",
       "  </thead>\n",
       "  <tbody>\n",
       "    <tr>\n",
       "      <th>0</th>\n",
       "      <td>4526</td>\n",
       "      <td></td>\n",
       "      <td>OC EMPLOYEE PHYSICAL</td>\n",
       "      <td>97.63</td>\n",
       "      <td>97.63</td>\n",
       "    </tr>\n",
       "    <tr>\n",
       "      <th>1</th>\n",
       "      <td>4548</td>\n",
       "      <td></td>\n",
       "      <td>D O T PHYSICAL</td>\n",
       "      <td>110.22</td>\n",
       "      <td>110.22</td>\n",
       "    </tr>\n",
       "    <tr>\n",
       "      <th>2</th>\n",
       "      <td>4571</td>\n",
       "      <td></td>\n",
       "      <td>OC HEP B VAC (3)</td>\n",
       "      <td>337.61</td>\n",
       "      <td>337.61</td>\n",
       "    </tr>\n",
       "    <tr>\n",
       "      <th>3</th>\n",
       "      <td>4582</td>\n",
       "      <td></td>\n",
       "      <td>OC FLU SHOT</td>\n",
       "      <td>27.09</td>\n",
       "      <td>27.09</td>\n",
       "    </tr>\n",
       "    <tr>\n",
       "      <th>4</th>\n",
       "      <td>6020</td>\n",
       "      <td>0G0109</td>\n",
       "      <td>DSMT GROUP EA 30 MIN</td>\n",
       "      <td>117.12</td>\n",
       "      <td>117.12</td>\n",
       "    </tr>\n",
       "  </tbody>\n",
       "</table>\n",
       "</div>"
      ],
      "text/plain": [
       "  Procedure ID HCPCS/CPT Code  ... Gross Charge Undiscounted Cash Price\n",
       "0         4526                 ...        97.63                   97.63\n",
       "1         4548                 ...       110.22                  110.22\n",
       "2         4571                 ...       337.61                  337.61\n",
       "3         4582                 ...        27.09                   27.09\n",
       "4         6020     0G0109      ...       117.12                  117.12\n",
       "\n",
       "[5 rows x 5 columns]"
      ]
     },
     "execution_count": 11,
     "metadata": {
      "tags": []
     },
     "output_type": "execute_result"
    }
   ],
   "source": [
    "# Create DF for Mountain View hospital in SLC\n",
    "mountain_view = pd.read_csv(\"MountainStar_mountain-view-hospital_standardcharges.csv\")\n",
    "mountain_view.head()\n",
    "\n",
    "mountain_view['Airport_Code'] = 'SLC'\n",
    "mountain_view['Hospital_Name'] = 'Mountain View'\n",
    "\n",
    "mountain_view['HCPCS_CPT'] = mountain_view['HCPCS/CPT']\n",
    "drop mountain_view['HCPCS/CPT']"
   ]
  },
  {
   "cell_type": "code",
   "execution_count": null,
   "metadata": {
    "colab": {
     "base_uri": "https://localhost:8080/",
     "height": 204
    },
    "id": "iKaJazFA5hKQ",
    "outputId": "d4138fc0-aed7-4804-990f-81ce0cd3a5fe"
   },
   "outputs": [
    {
     "data": {
      "text/html": [
       "<div>\n",
       "<style scoped>\n",
       "    .dataframe tbody tr th:only-of-type {\n",
       "        vertical-align: middle;\n",
       "    }\n",
       "\n",
       "    .dataframe tbody tr th {\n",
       "        vertical-align: top;\n",
       "    }\n",
       "\n",
       "    .dataframe thead th {\n",
       "        text-align: right;\n",
       "    }\n",
       "</style>\n",
       "<table border=\"1\" class=\"dataframe\">\n",
       "  <thead>\n",
       "    <tr style=\"text-align: right;\">\n",
       "      <th></th>\n",
       "      <th>Procedure ID</th>\n",
       "      <th>HCPCS/CPT Code</th>\n",
       "      <th>Description</th>\n",
       "      <th>Gross Charge</th>\n",
       "      <th>Undiscounted Cash Price</th>\n",
       "    </tr>\n",
       "  </thead>\n",
       "  <tbody>\n",
       "    <tr>\n",
       "      <th>0</th>\n",
       "      <td>1</td>\n",
       "      <td>93924</td>\n",
       "      <td>DOP LE ART W/EXER BIL</td>\n",
       "      <td>614.76</td>\n",
       "      <td>614.76</td>\n",
       "    </tr>\n",
       "    <tr>\n",
       "      <th>1</th>\n",
       "      <td>2</td>\n",
       "      <td>7366050</td>\n",
       "      <td>XR TOE(S) 2 + V BI</td>\n",
       "      <td>349.39</td>\n",
       "      <td>349.39</td>\n",
       "    </tr>\n",
       "    <tr>\n",
       "      <th>2</th>\n",
       "      <td>3</td>\n",
       "      <td>073660RT</td>\n",
       "      <td>XR TOE(S) 2 + V RT</td>\n",
       "      <td>174.68</td>\n",
       "      <td>174.68</td>\n",
       "    </tr>\n",
       "    <tr>\n",
       "      <th>3</th>\n",
       "      <td>4</td>\n",
       "      <td>073660LT</td>\n",
       "      <td>XR TOE(S) 2 + V LT</td>\n",
       "      <td>174.68</td>\n",
       "      <td>174.68</td>\n",
       "    </tr>\n",
       "    <tr>\n",
       "      <th>4</th>\n",
       "      <td>704</td>\n",
       "      <td></td>\n",
       "      <td>BARIUM LIQ 60% W/V 355ML</td>\n",
       "      <td>44.26</td>\n",
       "      <td>44.26</td>\n",
       "    </tr>\n",
       "  </tbody>\n",
       "</table>\n",
       "</div>"
      ],
      "text/plain": [
       "  Procedure ID HCPCS/CPT Code  ... Gross Charge Undiscounted Cash Price\n",
       "0            1          93924  ...       614.76                  614.76\n",
       "1            2        7366050  ...       349.39                  349.39\n",
       "2            3     073660RT    ...       174.68                  174.68\n",
       "3            4     073660LT    ...       174.68                  174.68\n",
       "4          704                 ...        44.26                   44.26\n",
       "\n",
       "[5 rows x 5 columns]"
      ]
     },
     "execution_count": 12,
     "metadata": {
      "tags": []
     },
     "output_type": "execute_result"
    }
   ],
   "source": [
    "# Create DF for Lone Peak hospital in SLC\n",
    "lone_peak = pd.read_csv(\"MountainStar_lone-peak-hospital_standardcharges.csv\")\n",
    "lone_peak.head()\n",
    "\n",
    "lone_peak['Airport_Code'] = 'SLC'\n",
    "lone_peak['Hospital_Name'] = 'Lone Peak'"
   ]
  },
  {
   "cell_type": "code",
   "execution_count": null,
   "metadata": {
    "colab": {
     "base_uri": "https://localhost:8080/",
     "height": 204
    },
    "id": "ULmNEK4hynAJ",
    "outputId": "bcfc2e1e-18a5-4210-db29-47afc1d0ed6f"
   },
   "outputs": [
    {
     "data": {
      "text/html": [
       "<div>\n",
       "<style scoped>\n",
       "    .dataframe tbody tr th:only-of-type {\n",
       "        vertical-align: middle;\n",
       "    }\n",
       "\n",
       "    .dataframe tbody tr th {\n",
       "        vertical-align: top;\n",
       "    }\n",
       "\n",
       "    .dataframe thead th {\n",
       "        text-align: right;\n",
       "    }\n",
       "</style>\n",
       "<table border=\"1\" class=\"dataframe\">\n",
       "  <thead>\n",
       "    <tr style=\"text-align: right;\">\n",
       "      <th></th>\n",
       "      <th>CDM</th>\n",
       "      <th>Code Type</th>\n",
       "      <th>Code</th>\n",
       "      <th>Description</th>\n",
       "      <th>Gross Charge</th>\n",
       "      <th>Cash Price</th>\n",
       "    </tr>\n",
       "  </thead>\n",
       "  <tbody>\n",
       "    <tr>\n",
       "      <th>0</th>\n",
       "      <td>34800011.0</td>\n",
       "      <td>CPT/HCPCS</td>\n",
       "      <td>97802</td>\n",
       "      <td>MNT INITIAL EA 15 MIN</td>\n",
       "      <td>$147</td>\n",
       "      <td>$59</td>\n",
       "    </tr>\n",
       "    <tr>\n",
       "      <th>1</th>\n",
       "      <td>34800029.0</td>\n",
       "      <td>CPT/HCPCS</td>\n",
       "      <td>97803</td>\n",
       "      <td>MNT RE-ASSESSMENT EA 15MIN</td>\n",
       "      <td>$124</td>\n",
       "      <td>$50</td>\n",
       "    </tr>\n",
       "    <tr>\n",
       "      <th>2</th>\n",
       "      <td>34800037.0</td>\n",
       "      <td>CPT/HCPCS</td>\n",
       "      <td>97804</td>\n",
       "      <td>MNT GROUP EDUCATION EA 30MIN</td>\n",
       "      <td>$69</td>\n",
       "      <td>$28</td>\n",
       "    </tr>\n",
       "    <tr>\n",
       "      <th>3</th>\n",
       "      <td>34800045.0</td>\n",
       "      <td>CPT/HCPCS</td>\n",
       "      <td>G0270</td>\n",
       "      <td>MNT INDIVIDL 15MIN 2ND REFERAL</td>\n",
       "      <td>$124</td>\n",
       "      <td>$50</td>\n",
       "    </tr>\n",
       "    <tr>\n",
       "      <th>4</th>\n",
       "      <td>34800060.0</td>\n",
       "      <td>CPT/HCPCS</td>\n",
       "      <td>G0108</td>\n",
       "      <td>DIAB EDUC SMT INDIV EA 30MIN</td>\n",
       "      <td>$389</td>\n",
       "      <td>$156</td>\n",
       "    </tr>\n",
       "  </tbody>\n",
       "</table>\n",
       "</div>"
      ],
      "text/plain": [
       "          CDM  Code Type  ...   Gross Charge     Cash Price  \n",
       "0  34800011.0  CPT/HCPCS  ...            $147            $59 \n",
       "1  34800029.0  CPT/HCPCS  ...            $124            $50 \n",
       "2  34800037.0  CPT/HCPCS  ...             $69            $28 \n",
       "3  34800045.0  CPT/HCPCS  ...            $124            $50 \n",
       "4  34800060.0  CPT/HCPCS  ...            $389           $156 \n",
       "\n",
       "[5 rows x 6 columns]"
      ]
     },
     "execution_count": 5,
     "metadata": {
      "tags": []
     },
     "output_type": "execute_result"
    }
   ],
   "source": [
    "# Create DF for Desert Springs Hosital in Las Vegas\n",
    "desert_springs = pd.read_csv(\"LasVegas_desertsprings_cleaned.csv\")\n",
    "#desert_springs['MAIN\\nPRICE'] = desert_springs['MAIN\\nPRICE'].replace(',', '')\n",
    "desert_springs.head()\n",
    "\n",
    "desert_springs['Airport_Code'] = 'LAS'\n",
    "desert_springs['Hospital_Name'] = 'Desert Springs'"
   ]
  },
  {
   "cell_type": "code",
   "execution_count": null,
   "metadata": {
    "colab": {
     "base_uri": "https://localhost:8080/",
     "height": 204
    },
    "id": "Ln4cDAr24Cj-",
    "outputId": "be295bf6-ee48-442d-91c4-2c6a559f71a0"
   },
   "outputs": [
    {
     "data": {
      "text/html": [
       "<div>\n",
       "<style scoped>\n",
       "    .dataframe tbody tr th:only-of-type {\n",
       "        vertical-align: middle;\n",
       "    }\n",
       "\n",
       "    .dataframe tbody tr th {\n",
       "        vertical-align: top;\n",
       "    }\n",
       "\n",
       "    .dataframe thead th {\n",
       "        text-align: right;\n",
       "    }\n",
       "</style>\n",
       "<table border=\"1\" class=\"dataframe\">\n",
       "  <thead>\n",
       "    <tr style=\"text-align: right;\">\n",
       "      <th></th>\n",
       "      <th>CDM</th>\n",
       "      <th>Code Type</th>\n",
       "      <th>Code</th>\n",
       "      <th>Description</th>\n",
       "      <th>Gross Charge</th>\n",
       "      <th>Cash Price</th>\n",
       "    </tr>\n",
       "  </thead>\n",
       "  <tbody>\n",
       "    <tr>\n",
       "      <th>0</th>\n",
       "      <td>34800060.0</td>\n",
       "      <td>CPT/HCPCS</td>\n",
       "      <td>G0108</td>\n",
       "      <td>DIAB EDUC SMT INDIV EA 30MIN</td>\n",
       "      <td>$361</td>\n",
       "      <td>$144</td>\n",
       "    </tr>\n",
       "    <tr>\n",
       "      <th>1</th>\n",
       "      <td>34800078.0</td>\n",
       "      <td>CPT/HCPCS</td>\n",
       "      <td>G0108</td>\n",
       "      <td>GESTATIONAL DM EDUC SMT 30MIN</td>\n",
       "      <td>$361</td>\n",
       "      <td>$144</td>\n",
       "    </tr>\n",
       "    <tr>\n",
       "      <th>2</th>\n",
       "      <td>34800086.0</td>\n",
       "      <td>CPT/HCPCS</td>\n",
       "      <td>G0108</td>\n",
       "      <td>INSULIN DM EDUC SMT EA 30MIN</td>\n",
       "      <td>$361</td>\n",
       "      <td>$144</td>\n",
       "    </tr>\n",
       "    <tr>\n",
       "      <th>3</th>\n",
       "      <td>34800094.0</td>\n",
       "      <td>CPT/HCPCS</td>\n",
       "      <td>G0109</td>\n",
       "      <td>DIABETES ED SMT GROUP EA 30MIN</td>\n",
       "      <td>$177</td>\n",
       "      <td>$71</td>\n",
       "    </tr>\n",
       "    <tr>\n",
       "      <th>4</th>\n",
       "      <td>34800110.0</td>\n",
       "      <td>CPT/HCPCS</td>\n",
       "      <td>G0109</td>\n",
       "      <td>GESTATIONAL DM ED GROUP 30MIN</td>\n",
       "      <td>$152</td>\n",
       "      <td>$61</td>\n",
       "    </tr>\n",
       "  </tbody>\n",
       "</table>\n",
       "</div>"
      ],
      "text/plain": [
       "          CDM  Code Type  ...   Gross Charge     Cash Price  \n",
       "0  34800060.0  CPT/HCPCS  ...            $361           $144 \n",
       "1  34800078.0  CPT/HCPCS  ...            $361           $144 \n",
       "2  34800086.0  CPT/HCPCS  ...            $361           $144 \n",
       "3  34800094.0  CPT/HCPCS  ...            $177            $71 \n",
       "4  34800110.0  CPT/HCPCS  ...            $152            $61 \n",
       "\n",
       "[5 rows x 6 columns]"
      ]
     },
     "execution_count": 6,
     "metadata": {
      "tags": []
     },
     "output_type": "execute_result"
    }
   ],
   "source": [
    "# Create DF for Summerlin Hosital in Las Vegas\n",
    "summerlin = pd.read_csv(\"LasVegas_summerlin_cleaned.csv\")\n",
    "summerlin.head()\n",
    "\n",
    "summerlin['Airport_Code'] = 'LAS'\n",
    "summerlin['Hospital_Name'] = 'Summerlin Hospital'"
   ]
  },
  {
   "cell_type": "code",
   "execution_count": null,
   "metadata": {
    "colab": {
     "base_uri": "https://localhost:8080/",
     "height": 204
    },
    "id": "a-LGSREL4ivu",
    "outputId": "c534ad9c-a03f-4a0f-b359-fdecaf194ea8"
   },
   "outputs": [
    {
     "data": {
      "text/html": [
       "<div>\n",
       "<style scoped>\n",
       "    .dataframe tbody tr th:only-of-type {\n",
       "        vertical-align: middle;\n",
       "    }\n",
       "\n",
       "    .dataframe tbody tr th {\n",
       "        vertical-align: top;\n",
       "    }\n",
       "\n",
       "    .dataframe thead th {\n",
       "        text-align: right;\n",
       "    }\n",
       "</style>\n",
       "<table border=\"1\" class=\"dataframe\">\n",
       "  <thead>\n",
       "    <tr style=\"text-align: right;\">\n",
       "      <th></th>\n",
       "      <th>CDM</th>\n",
       "      <th>Code Type</th>\n",
       "      <th>Code</th>\n",
       "      <th>Description</th>\n",
       "      <th>Gross Charge</th>\n",
       "      <th>Cash Price</th>\n",
       "    </tr>\n",
       "  </thead>\n",
       "  <tbody>\n",
       "    <tr>\n",
       "      <th>0</th>\n",
       "      <td>34800060.0</td>\n",
       "      <td>CPT/HCPCS</td>\n",
       "      <td>G0108</td>\n",
       "      <td>DIAB EDUC SMT INDIV EA 30MIN</td>\n",
       "      <td>$394</td>\n",
       "      <td>$158</td>\n",
       "    </tr>\n",
       "    <tr>\n",
       "      <th>1</th>\n",
       "      <td>34800078.0</td>\n",
       "      <td>CPT/HCPCS</td>\n",
       "      <td>G0108</td>\n",
       "      <td>GESTATIONAL DM EDUC SMT 30MIN</td>\n",
       "      <td>$394</td>\n",
       "      <td>$158</td>\n",
       "    </tr>\n",
       "    <tr>\n",
       "      <th>2</th>\n",
       "      <td>34800086.0</td>\n",
       "      <td>CPT/HCPCS</td>\n",
       "      <td>G0108</td>\n",
       "      <td>INSULIN DM EDUC SMT EA 30MIN</td>\n",
       "      <td>$394</td>\n",
       "      <td>$158</td>\n",
       "    </tr>\n",
       "    <tr>\n",
       "      <th>3</th>\n",
       "      <td>34800094.0</td>\n",
       "      <td>CPT/HCPCS</td>\n",
       "      <td>G0109</td>\n",
       "      <td>DIABETES ED SMT GROUP EA 30MIN</td>\n",
       "      <td>$205</td>\n",
       "      <td>$82</td>\n",
       "    </tr>\n",
       "    <tr>\n",
       "      <th>4</th>\n",
       "      <td>34800102.0</td>\n",
       "      <td>CPT/HCPCS</td>\n",
       "      <td>G0109</td>\n",
       "      <td>INSULIN DM ED GROUP EA 30MIN</td>\n",
       "      <td>$178</td>\n",
       "      <td>$71</td>\n",
       "    </tr>\n",
       "  </tbody>\n",
       "</table>\n",
       "</div>"
      ],
      "text/plain": [
       "          CDM  Code Type  ...   Gross Charge     Cash Price  \n",
       "0  34800060.0  CPT/HCPCS  ...            $394           $158 \n",
       "1  34800078.0  CPT/HCPCS  ...            $394           $158 \n",
       "2  34800086.0  CPT/HCPCS  ...            $394           $158 \n",
       "3  34800094.0  CPT/HCPCS  ...            $205            $82 \n",
       "4  34800102.0  CPT/HCPCS  ...            $178            $71 \n",
       "\n",
       "[5 rows x 6 columns]"
      ]
     },
     "execution_count": 7,
     "metadata": {
      "tags": []
     },
     "output_type": "execute_result"
    }
   ],
   "source": [
    "# Create DF for Valley Hosital in Las Vegas\n",
    "valley = pd.read_csv(\"LasVegas_valley_hospital_cleaned.csv\")\n",
    "valley.head()\n",
    "#What is everything in the codetype column\n",
    "\n",
    "valley['Airport_Code'] = 'LAS'\n",
    "valley['Hospital_Name'] = 'Valley Hospital'"
   ]
  },
  {
   "cell_type": "code",
   "execution_count": null,
   "metadata": {
    "colab": {
     "base_uri": "https://localhost:8080/",
     "height": 204
    },
    "id": "DakASc6h4ik5",
    "outputId": "0a6fa37d-7d59-41b2-972b-09aca5915f79"
   },
   "outputs": [
    {
     "data": {
      "text/html": [
       "<div>\n",
       "<style scoped>\n",
       "    .dataframe tbody tr th:only-of-type {\n",
       "        vertical-align: middle;\n",
       "    }\n",
       "\n",
       "    .dataframe tbody tr th {\n",
       "        vertical-align: top;\n",
       "    }\n",
       "\n",
       "    .dataframe thead th {\n",
       "        text-align: right;\n",
       "    }\n",
       "</style>\n",
       "<table border=\"1\" class=\"dataframe\">\n",
       "  <thead>\n",
       "    <tr style=\"text-align: right;\">\n",
       "      <th></th>\n",
       "      <th>Chargecode</th>\n",
       "      <th>Description</th>\n",
       "      <th>CPT/HCPCS</th>\n",
       "      <th>Fee</th>\n",
       "    </tr>\n",
       "  </thead>\n",
       "  <tbody>\n",
       "    <tr>\n",
       "      <th>0</th>\n",
       "      <td>00000F</td>\n",
       "      <td>INVALID PROCEDURE CODE TES - HPA BOUND</td>\n",
       "      <td>NaN</td>\n",
       "      <td>NaN</td>\n",
       "    </tr>\n",
       "    <tr>\n",
       "      <th>1</th>\n",
       "      <td>0001A</td>\n",
       "      <td>VACCINE ADMIN, PFIZER 1ST COVID VAC IM</td>\n",
       "      <td>0001A</td>\n",
       "      <td>40.0</td>\n",
       "    </tr>\n",
       "    <tr>\n",
       "      <th>2</th>\n",
       "      <td>0002A</td>\n",
       "      <td>VACCINE ADMIN, PFIZER 2ND COVID VAC IM</td>\n",
       "      <td>0002A</td>\n",
       "      <td>40.0</td>\n",
       "    </tr>\n",
       "    <tr>\n",
       "      <th>3</th>\n",
       "      <td>0011A</td>\n",
       "      <td>VACCINE ADMIN, MODERNA 1ST COVID VAC IM</td>\n",
       "      <td>0011A</td>\n",
       "      <td>40.0</td>\n",
       "    </tr>\n",
       "    <tr>\n",
       "      <th>4</th>\n",
       "      <td>0012A</td>\n",
       "      <td>VACCINE ADMIN, MODERNA 2ND COVID VAC IM</td>\n",
       "      <td>0012A</td>\n",
       "      <td>40.0</td>\n",
       "    </tr>\n",
       "  </tbody>\n",
       "</table>\n",
       "</div>"
      ],
      "text/plain": [
       "  Chargecode                              Description CPT/HCPCS   Fee\n",
       "0     00000F   INVALID PROCEDURE CODE TES - HPA BOUND       NaN   NaN\n",
       "1      0001A   VACCINE ADMIN, PFIZER 1ST COVID VAC IM     0001A  40.0\n",
       "2      0002A   VACCINE ADMIN, PFIZER 2ND COVID VAC IM     0002A  40.0\n",
       "3      0011A  VACCINE ADMIN, MODERNA 1ST COVID VAC IM     0011A  40.0\n",
       "4      0012A  VACCINE ADMIN, MODERNA 2ND COVID VAC IM     0012A  40.0"
      ]
     },
     "execution_count": 14,
     "metadata": {
      "tags": []
     },
     "output_type": "execute_result"
    }
   ],
   "source": [
    "# Create DF for Virginia Mason Hosital in Seattle\n",
    "virginia_mason = pd.read_csv(\"Virginia_mason_Seattle.csv\")\n",
    "\n",
    "virginia_mason['Airport_Code'] = 'SEA'\n",
    "virginia_mason['Hospital_Name'] = 'Virginia Mason'\n",
    "\n",
    "virginia_mason.head()"
   ]
  },
  {
   "cell_type": "code",
   "execution_count": null,
   "metadata": {
    "id": "pWwDmzRR8c1T"
   },
   "outputs": [],
   "source": []
  },
  {
   "cell_type": "code",
   "execution_count": null,
   "metadata": {
    "colab": {
     "base_uri": "https://localhost:8080/",
     "height": 162
    },
    "id": "SA6FMiN94iTT",
    "outputId": "41c2c603-ed1e-4fe9-df9c-134c1def545a"
   },
   "outputs": [
    {
     "ename": "NameError",
     "evalue": "ignored",
     "output_type": "error",
     "traceback": [
      "\u001b[0;31m---------------------------------------------------------------------------\u001b[0m",
      "\u001b[0;31mNameError\u001b[0m                                 Traceback (most recent call last)",
      "\u001b[0;32m<ipython-input-1-4ddfce83ccd5>\u001b[0m in \u001b[0;36m<module>\u001b[0;34m()\u001b[0m\n\u001b[0;32m----> 1\u001b[0;31m \u001b[0mprint\u001b[0m\u001b[0;34m(\u001b[0m\u001b[0mtest\u001b[0m\u001b[0;34m)\u001b[0m\u001b[0;34m\u001b[0m\u001b[0;34m\u001b[0m\u001b[0m\n\u001b[0m",
      "\u001b[0;31mNameError\u001b[0m: name 'test' is not defined"
     ]
    }
   ],
   "source": [
    "print(test)"
   ]
  }
 ],
 "metadata": {
  "colab": {
   "collapsed_sections": [],
   "include_colab_link": true,
   "name": "Price_Comparison.ipynb",
   "provenance": []
  },
  "kernelspec": {
   "display_name": "Python 3",
   "language": "python",
   "name": "python3"
  },
  "language_info": {
   "codemirror_mode": {
    "name": "ipython",
    "version": 3
   },
   "file_extension": ".py",
   "mimetype": "text/x-python",
   "name": "python",
   "nbconvert_exporter": "python",
   "pygments_lexer": "ipython3",
   "version": "3.8.5"
  }
 },
 "nbformat": 4,
 "nbformat_minor": 1
}
