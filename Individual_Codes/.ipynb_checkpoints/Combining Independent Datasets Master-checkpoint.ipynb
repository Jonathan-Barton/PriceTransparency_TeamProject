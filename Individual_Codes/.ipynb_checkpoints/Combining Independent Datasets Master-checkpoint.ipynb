{
 "cells": [
  {
   "cell_type": "code",
   "execution_count": 10,
   "metadata": {},
   "outputs": [],
   "source": [
    "import pandas as pd\n",
    "import csv"
   ]
  },
  {
   "cell_type": "code",
   "execution_count": 11,
   "metadata": {},
   "outputs": [
    {
     "name": "stderr",
     "output_type": "stream",
     "text": [
      "C:\\Users\\u0955471\\Anaconda3\\lib\\site-packages\\IPython\\core\\interactiveshell.py:3146: DtypeWarning: Columns (3) have mixed types.Specify dtype option on import or set low_memory=False.\n",
      "  has_raised = await self.run_ast_nodes(code_ast.body, cell_name,\n",
      "C:\\Users\\u0955471\\Anaconda3\\lib\\site-packages\\IPython\\core\\interactiveshell.py:3146: DtypeWarning: Columns (3,4) have mixed types.Specify dtype option on import or set low_memory=False.\n",
      "  has_raised = await self.run_ast_nodes(code_ast.body, cell_name,\n"
     ]
    }
   ],
   "source": [
    "SFLB = pd.read_csv('SF and LB Hospital Combined Dataframe.csv', header =0)\n",
    "LASSEA = pd.read_csv('main_dataset.csv', header =0)\n",
    "SLC= pd.read_csv('', header =0)"
   ]
  },
  {
   "cell_type": "code",
   "execution_count": 12,
   "metadata": {},
   "outputs": [
    {
     "data": {
      "text/plain": [
       "Airport_Code                 object\n",
       "Hospital_Name                object\n",
       "Procedure_Description        object\n",
       "Cash_Price                   object\n",
       "Gross_Price                  object\n",
       "CPT_Code                     object\n",
       "Number_Beds                   int64\n",
       "For_Profit                    int64\n",
       "Yearly_Discharges             int64\n",
       "Patient_Experience_Rating     int64\n",
       "dtype: object"
      ]
     },
     "execution_count": 12,
     "metadata": {},
     "output_type": "execute_result"
    }
   ],
   "source": [
    "LASSEA.dtypes"
   ]
  },
  {
   "cell_type": "code",
   "execution_count": 14,
   "metadata": {},
   "outputs": [
    {
     "data": {
      "text/html": [
       "<div>\n",
       "<style scoped>\n",
       "    .dataframe tbody tr th:only-of-type {\n",
       "        vertical-align: middle;\n",
       "    }\n",
       "\n",
       "    .dataframe tbody tr th {\n",
       "        vertical-align: top;\n",
       "    }\n",
       "\n",
       "    .dataframe thead th {\n",
       "        text-align: right;\n",
       "    }\n",
       "</style>\n",
       "<table border=\"1\" class=\"dataframe\">\n",
       "  <thead>\n",
       "    <tr style=\"text-align: right;\">\n",
       "      <th></th>\n",
       "      <th>Airport_Code</th>\n",
       "      <th>Hospital_Name</th>\n",
       "      <th>Procedure_Description</th>\n",
       "      <th>Cash_Price</th>\n",
       "      <th>Gross_Price</th>\n",
       "      <th>CPT_Code</th>\n",
       "      <th>Number_Beds</th>\n",
       "      <th>For_Profit</th>\n",
       "      <th>Yearly_Discharges</th>\n",
       "      <th>Patient_Experience_Rating</th>\n",
       "    </tr>\n",
       "  </thead>\n",
       "  <tbody>\n",
       "    <tr>\n",
       "      <th>0</th>\n",
       "      <td>LAS</td>\n",
       "      <td>Desert Springs</td>\n",
       "      <td>MNT INITIAL EA 15 MIN</td>\n",
       "      <td>59</td>\n",
       "      <td>147</td>\n",
       "      <td>97802</td>\n",
       "      <td>245</td>\n",
       "      <td>1</td>\n",
       "      <td>12696</td>\n",
       "      <td>2</td>\n",
       "    </tr>\n",
       "    <tr>\n",
       "      <th>1</th>\n",
       "      <td>LAS</td>\n",
       "      <td>Desert Springs</td>\n",
       "      <td>MNT RE-ASSESSMENT EA 15MIN</td>\n",
       "      <td>50</td>\n",
       "      <td>124</td>\n",
       "      <td>97803</td>\n",
       "      <td>245</td>\n",
       "      <td>1</td>\n",
       "      <td>12696</td>\n",
       "      <td>2</td>\n",
       "    </tr>\n",
       "    <tr>\n",
       "      <th>2</th>\n",
       "      <td>LAS</td>\n",
       "      <td>Desert Springs</td>\n",
       "      <td>MNT GROUP EDUCATION EA 30MIN</td>\n",
       "      <td>28</td>\n",
       "      <td>69</td>\n",
       "      <td>97804</td>\n",
       "      <td>245</td>\n",
       "      <td>1</td>\n",
       "      <td>12696</td>\n",
       "      <td>2</td>\n",
       "    </tr>\n",
       "    <tr>\n",
       "      <th>3</th>\n",
       "      <td>LAS</td>\n",
       "      <td>Desert Springs</td>\n",
       "      <td>MNT INDIVIDL 15MIN 2ND REFERAL</td>\n",
       "      <td>50</td>\n",
       "      <td>124</td>\n",
       "      <td>G0270</td>\n",
       "      <td>245</td>\n",
       "      <td>1</td>\n",
       "      <td>12696</td>\n",
       "      <td>2</td>\n",
       "    </tr>\n",
       "    <tr>\n",
       "      <th>4</th>\n",
       "      <td>LAS</td>\n",
       "      <td>Desert Springs</td>\n",
       "      <td>DIAB EDUC SMT INDIV EA 30MIN</td>\n",
       "      <td>156</td>\n",
       "      <td>389</td>\n",
       "      <td>G0108</td>\n",
       "      <td>245</td>\n",
       "      <td>1</td>\n",
       "      <td>12696</td>\n",
       "      <td>2</td>\n",
       "    </tr>\n",
       "  </tbody>\n",
       "</table>\n",
       "</div>"
      ],
      "text/plain": [
       "  Airport_Code   Hospital_Name           Procedure_Description Cash_Price  \\\n",
       "0          LAS  Desert Springs           MNT INITIAL EA 15 MIN         59   \n",
       "1          LAS  Desert Springs      MNT RE-ASSESSMENT EA 15MIN         50   \n",
       "2          LAS  Desert Springs    MNT GROUP EDUCATION EA 30MIN         28   \n",
       "3          LAS  Desert Springs  MNT INDIVIDL 15MIN 2ND REFERAL         50   \n",
       "4          LAS  Desert Springs    DIAB EDUC SMT INDIV EA 30MIN        156   \n",
       "\n",
       "  Gross_Price CPT_Code  Number_Beds  For_Profit  Yearly_Discharges  \\\n",
       "0         147    97802          245           1              12696   \n",
       "1         124    97803          245           1              12696   \n",
       "2          69    97804          245           1              12696   \n",
       "3         124    G0270          245           1              12696   \n",
       "4         389    G0108          245           1              12696   \n",
       "\n",
       "   Patient_Experience_Rating  \n",
       "0                          2  \n",
       "1                          2  \n",
       "2                          2  \n",
       "3                          2  \n",
       "4                          2  "
      ]
     },
     "execution_count": 14,
     "metadata": {},
     "output_type": "execute_result"
    }
   ],
   "source": [
    "LASSEA.head()"
   ]
  },
  {
   "cell_type": "code",
   "execution_count": null,
   "metadata": {},
   "outputs": [],
   "source": []
  }
 ],
 "metadata": {
  "kernelspec": {
   "display_name": "Python 3",
   "language": "python",
   "name": "python3"
  },
  "language_info": {
   "codemirror_mode": {
    "name": "ipython",
    "version": 3
   },
   "file_extension": ".py",
   "mimetype": "text/x-python",
   "name": "python",
   "nbconvert_exporter": "python",
   "pygments_lexer": "ipython3",
   "version": "3.8.5"
  }
 },
 "nbformat": 4,
 "nbformat_minor": 4
}
