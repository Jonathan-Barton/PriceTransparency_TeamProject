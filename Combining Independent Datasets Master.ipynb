{
 "cells": [
  {
   "cell_type": "code",
   "execution_count": 1,
   "metadata": {},
   "outputs": [],
   "source": [
    "import pandas as pd\n",
    "import csv"
   ]
  },
  {
   "cell_type": "code",
   "execution_count": 6,
   "metadata": {},
   "outputs": [
    {
     "name": "stderr",
     "output_type": "stream",
     "text": [
      "C:\\Users\\u0955471\\Anaconda3\\lib\\site-packages\\IPython\\core\\interactiveshell.py:3146: DtypeWarning: Columns (4) have mixed types.Specify dtype option on import or set low_memory=False.\n",
      "  has_raised = await self.run_ast_nodes(code_ast.body, cell_name,\n"
     ]
    }
   ],
   "source": [
    "SFLB = pd.read_csv('SF and LB Hospital Combined Dataframe.csv', header =0)\n",
    "LASSEA = pd.read_csv('main_dataset.csv', header =0)\n",
    "SLC= pd.read_csv('SLC_Hospitals.csv', header =0)"
   ]
  },
  {
   "cell_type": "code",
   "execution_count": 7,
   "metadata": {},
   "outputs": [],
   "source": [
    "dataframes = [SFLB, LASSEA, SLC]\n",
    "masterDataset = pd.concat(dataframes)"
   ]
  },
  {
   "cell_type": "code",
   "execution_count": 8,
   "metadata": {},
   "outputs": [],
   "source": [
    "masterDataset.to_csv('master_dataset.csv')"
   ]
  },
  {
   "cell_type": "code",
   "execution_count": 9,
   "metadata": {},
   "outputs": [
    {
     "data": {
      "text/html": [
       "<div>\n",
       "<style scoped>\n",
       "    .dataframe tbody tr th:only-of-type {\n",
       "        vertical-align: middle;\n",
       "    }\n",
       "\n",
       "    .dataframe tbody tr th {\n",
       "        vertical-align: top;\n",
       "    }\n",
       "\n",
       "    .dataframe thead th {\n",
       "        text-align: right;\n",
       "    }\n",
       "</style>\n",
       "<table border=\"1\" class=\"dataframe\">\n",
       "  <thead>\n",
       "    <tr style=\"text-align: right;\">\n",
       "      <th></th>\n",
       "      <th>Airport_Code</th>\n",
       "      <th>Hospital_Name</th>\n",
       "      <th>Procedure_Description</th>\n",
       "      <th>Cash_Price</th>\n",
       "      <th>Gross_Price</th>\n",
       "      <th>CPT_Code</th>\n",
       "      <th>Number_Beds</th>\n",
       "      <th>For_Profit</th>\n",
       "      <th>Yearly_Discharges</th>\n",
       "      <th>Patient_Experience_Rating</th>\n",
       "    </tr>\n",
       "  </thead>\n",
       "  <tbody>\n",
       "    <tr>\n",
       "      <th>0</th>\n",
       "      <td>SF</td>\n",
       "      <td>SF - Zuckerberg</td>\n",
       "      <td>Hc Surgery, Trauma Major I, Addl 30 Mins</td>\n",
       "      <td>3367.7</td>\n",
       "      <td>3367.7</td>\n",
       "      <td>3.60E+11</td>\n",
       "      <td>397</td>\n",
       "      <td>0</td>\n",
       "      <td>15244</td>\n",
       "      <td>3</td>\n",
       "    </tr>\n",
       "    <tr>\n",
       "      <th>1</th>\n",
       "      <td>SF</td>\n",
       "      <td>SF - Zuckerberg</td>\n",
       "      <td>Hc Post Drain &amp; Percussion 30 Min</td>\n",
       "      <td>218.45</td>\n",
       "      <td>218.45</td>\n",
       "      <td>94667</td>\n",
       "      <td>397</td>\n",
       "      <td>0</td>\n",
       "      <td>15244</td>\n",
       "      <td>3</td>\n",
       "    </tr>\n",
       "    <tr>\n",
       "      <th>2</th>\n",
       "      <td>SF</td>\n",
       "      <td>SF - Zuckerberg</td>\n",
       "      <td>Hc Surgery, Minor I, C&amp;g, Addl 30 Mins</td>\n",
       "      <td>2214.25</td>\n",
       "      <td>2214.25</td>\n",
       "      <td>3.61E+11</td>\n",
       "      <td>397</td>\n",
       "      <td>0</td>\n",
       "      <td>15244</td>\n",
       "      <td>3</td>\n",
       "    </tr>\n",
       "    <tr>\n",
       "      <th>3</th>\n",
       "      <td>SF</td>\n",
       "      <td>SF - Zuckerberg</td>\n",
       "      <td>Hc Surgery, Minor Ii, C&amp;g, Addl 30 Mins</td>\n",
       "      <td>2367.25</td>\n",
       "      <td>2367.25</td>\n",
       "      <td>3.61E+11</td>\n",
       "      <td>397</td>\n",
       "      <td>0</td>\n",
       "      <td>15244</td>\n",
       "      <td>3</td>\n",
       "    </tr>\n",
       "    <tr>\n",
       "      <th>4</th>\n",
       "      <td>SF</td>\n",
       "      <td>SF - Zuckerberg</td>\n",
       "      <td>LAB PATHOLOGY CONSULT-COMPLETE</td>\n",
       "      <td>25.5</td>\n",
       "      <td>25.5</td>\n",
       "      <td>80502</td>\n",
       "      <td>397</td>\n",
       "      <td>0</td>\n",
       "      <td>15244</td>\n",
       "      <td>3</td>\n",
       "    </tr>\n",
       "  </tbody>\n",
       "</table>\n",
       "</div>"
      ],
      "text/plain": [
       "  Airport_Code    Hospital_Name                     Procedure_Description  \\\n",
       "0           SF  SF - Zuckerberg  Hc Surgery, Trauma Major I, Addl 30 Mins   \n",
       "1           SF  SF - Zuckerberg         Hc Post Drain & Percussion 30 Min   \n",
       "2           SF  SF - Zuckerberg    Hc Surgery, Minor I, C&g, Addl 30 Mins   \n",
       "3           SF  SF - Zuckerberg   Hc Surgery, Minor Ii, C&g, Addl 30 Mins   \n",
       "4           SF  SF - Zuckerberg            LAB PATHOLOGY CONSULT-COMPLETE   \n",
       "\n",
       "  Cash_Price Gross_Price  CPT_Code  Number_Beds  For_Profit  \\\n",
       "0     3367.7      3367.7  3.60E+11          397           0   \n",
       "1     218.45      218.45     94667          397           0   \n",
       "2    2214.25     2214.25  3.61E+11          397           0   \n",
       "3    2367.25     2367.25  3.61E+11          397           0   \n",
       "4       25.5        25.5     80502          397           0   \n",
       "\n",
       "   Yearly_Discharges  Patient_Experience_Rating  \n",
       "0              15244                          3  \n",
       "1              15244                          3  \n",
       "2              15244                          3  \n",
       "3              15244                          3  \n",
       "4              15244                          3  "
      ]
     },
     "execution_count": 9,
     "metadata": {},
     "output_type": "execute_result"
    }
   ],
   "source": [
    "masterDataset.head()"
   ]
  },
  {
   "cell_type": "code",
   "execution_count": null,
   "metadata": {},
   "outputs": [],
   "source": []
  }
 ],
 "metadata": {
  "kernelspec": {
   "display_name": "Python 3",
   "language": "python",
   "name": "python3"
  },
  "language_info": {
   "codemirror_mode": {
    "name": "ipython",
    "version": 3
   },
   "file_extension": ".py",
   "mimetype": "text/x-python",
   "name": "python",
   "nbconvert_exporter": "python",
   "pygments_lexer": "ipython3",
   "version": "3.8.5"
  }
 },
 "nbformat": 4,
 "nbformat_minor": 4
}
